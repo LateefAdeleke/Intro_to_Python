{
 "cells": [
  {
   "cell_type": "code",
   "execution_count": 1,
   "id": "8292e5b3-c98a-4aa2-8047-b31d0f640cab",
   "metadata": {},
   "outputs": [
    {
     "name": "stdout",
     "output_type": "stream",
     "text": [
      "how u dey\n"
     ]
    },
    {
     "data": {
      "text/plain": [
       "'your broda no-fit klaimb di tri se una climbed'"
      ]
     },
     "execution_count": 1,
     "metadata": {},
     "output_type": "execute_result"
    }
   ],
   "source": [
    "Translation_Dic = {\n",
    "    \"please\": \"abeg\", \"know\": \"sabi\", \n",
    "    \"hastiness\":\"gragra\", \"charm\": \"juju\", \"mother\": \"mama\", \n",
    "    \"child\": \"pikin\", \"you\": \"una\", \"walk\": \"waka\",\n",
    "    \"rubish\": \"yamayama\", \"our\": \"awa\", \"people\":\"pipul\",\n",
    "    \"come\": \"kom\",  \"said\":\"tok\", \"that\": \"se\", \"what\": \"wetin\",\n",
    "    \"old\":\"old\", \"man\": \"man\",  \"is\": \"de\", \"see\": \"si\", \"for\":\"fo\",\n",
    "    \"where\":\"wie\", \"he\": \"im\", \"sit\": \"sidon\", \"small\": \"smol\", \n",
    "    \"child\": \"pikin\", \"cannot\": \"no-fit\", \"it\": \"am\", \"even\": \"ivun\" \n",
    "    ,\"when\":\"wen\", \"he\":\"im\", \"climb\": \"klaimb\", \"tree\": \"tri\",\n",
    "    \"the\": \"Di\", \"three\": \"tiri\", \"elder\": \"sinio\", \"child\":\"pikin\",\n",
    "    \"magician\": \"majishan\", \"and\": \"an\", \"they\": \"dem\", \"their\":\"dia\",\n",
    "    \"small\": \"smol\", \"brother\": \"broda\", \"not\":\"neva\", \"mature\": \"big\",\n",
    "    \"enough\": \"rich\", \"to\": \"to\", \"learn\": \"len\", \"any\": \"eni\", \"work\": \"wok\",\n",
    "    \"one\": \"Wan\", \"day\": \"dé\", \"the\": \"di\", \"hunter\": \"honta\", \"entered\":\"enta\",\n",
    "    \"bush\": \"bush\", \"go\": \"go\", \"hunt\": \"hont\", \"animal\": \"anima\"}\n",
    "\n",
    "def English_Pidgin_Dic(English_Sentence):\n",
    "    \n",
    "    words = English_Sentence.lower().split()\n",
    "    \"\"\"\n",
    "    pidgin_sentence = []   \n",
    "    \n",
    "    for word in words:\n",
    "        if word in Translation_Dic:\n",
    "            pidgin_word = Translation_Dic[word]\n",
    "        else:\n",
    "            pidgin_word = word  \n",
    "        pidgin_sentence.append(pidgin_word)\n",
    "        \n",
    "    pidgin_sentence = \" &\".join(pidgin_sentence)\n",
    "    return pidgin_sentence\n",
    "    \"\"\"\n",
    "    print(Translation_Dic.get(\"hello\", \"how u dey\"))\n",
    "        \n",
    "    pidgin_sentence = [Translation_Dic.get(word, word) for word in words]\n",
    "    \n",
    "    pidgin_sentence = \" \".join(pidgin_sentence)\n",
    "    return pidgin_sentence\n",
    "\n",
    "\n",
    "English_Sentence = (\"Your brother cannot climb the tree that you climbed\")\n",
    "English_Pidgin_Dic(English_Sentence)\n",
    "\n",
    "    \n",
    "    "
   ]
  },
  {
   "cell_type": "code",
   "execution_count": null,
   "id": "b11aca38-9bf4-4ae5-85c2-ce9e8817ee3e",
   "metadata": {},
   "outputs": [],
   "source": []
  }
 ],
 "metadata": {
  "kernelspec": {
   "display_name": "Python 3 (ipykernel)",
   "language": "python",
   "name": "python3"
  },
  "language_info": {
   "codemirror_mode": {
    "name": "ipython",
    "version": 3
   },
   "file_extension": ".py",
   "mimetype": "text/x-python",
   "name": "python",
   "nbconvert_exporter": "python",
   "pygments_lexer": "ipython3",
   "version": "3.11.5"
  }
 },
 "nbformat": 4,
 "nbformat_minor": 5
}
