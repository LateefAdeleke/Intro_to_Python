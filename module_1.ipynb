{
 "cells": [
  {
   "cell_type": "code",
   "execution_count": 3,
   "id": "4d319ef6-ac51-4427-9dd8-4d7e59502dca",
   "metadata": {},
   "outputs": [
    {
     "name": "stdout",
     "output_type": "stream",
     "text": [
      "3\n"
     ]
    }
   ],
   "source": [
    "def sum_numbers(a,b):\n",
    "    print(a+b)\n",
    "\n",
    "sum_numbers(2,1)"
   ]
  },
  {
   "cell_type": "code",
   "execution_count": null,
   "id": "50971717-cd09-4054-af9b-63fdea9deb56",
   "metadata": {},
   "outputs": [],
   "source": [
    "dollar = 1700"
   ]
  }
 ],
 "metadata": {
  "kernelspec": {
   "display_name": "Python 3 (ipykernel)",
   "language": "python",
   "name": "python3"
  },
  "language_info": {
   "codemirror_mode": {
    "name": "ipython",
    "version": 3
   },
   "file_extension": ".py",
   "mimetype": "text/x-python",
   "name": "python",
   "nbconvert_exporter": "python",
   "pygments_lexer": "ipython3",
   "version": "3.11.5"
  }
 },
 "nbformat": 4,
 "nbformat_minor": 5
}
