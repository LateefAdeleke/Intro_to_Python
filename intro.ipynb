{
 "cells": [
  {
   "cell_type": "code",
   "execution_count": 44,
   "id": "3cf24bbf-c9ca-41f6-9069-d946f6c12e05",
   "metadata": {},
   "outputs": [
    {
     "name": "stdout",
     "output_type": "stream",
     "text": [
      "importing Jupyter notebook from module_1.ipynb\n",
      "3\n"
     ]
    }
   ],
   "source": [
    "import import_ipynb\n",
    "import module_1"
   ]
  },
  {
   "cell_type": "code",
   "execution_count": 46,
   "id": "50b7c44d-4a38-4b4b-a025-da03e9ca1f48",
   "metadata": {},
   "outputs": [
    {
     "name": "stdout",
     "output_type": "stream",
     "text": [
      "['__builtins__', '__doc__', '__file__', '__loader__', '__name__', '__package__', '__spec__', 'dollar', 'get_ipython', 'sum_numbers']\n"
     ]
    },
    {
     "data": {
      "text/plain": [
       "1700"
      ]
     },
     "execution_count": 46,
     "metadata": {},
     "output_type": "execute_result"
    }
   ],
   "source": [
    "print(dir(module_1))\n",
    "\n",
    "module_1.dollar\n"
   ]
  },
  {
   "cell_type": "markdown",
   "id": "1c9b5169-6509-4da0-b083-1f020bcc9677",
   "metadata": {},
   "source": [
    "# Introduction to data types"
   ]
  },
  {
   "cell_type": "code",
   "execution_count": 7,
   "id": "fcaa9f43-0084-4339-ad26-dc2fcd4866f6",
   "metadata": {},
   "outputs": [
    {
     "name": "stdout",
     "output_type": "stream",
     "text": [
      "1200\n"
     ]
    }
   ],
   "source": [
    "def get_area():\n",
    "    L = 30\n",
    "    H = 40\n",
    "    Area = L * H\n",
    "    print(Area)\n",
    "\n",
    "get_area()"
   ]
  },
  {
   "cell_type": "markdown",
   "id": "b3bab84b-a5c5-47e8-87ac-7dab99581558",
   "metadata": {},
   "source": [
    "## Round and Display:\n",
    "Write a Python program that takes a floating-point number as input, rounds it to the nearest integer \n",
    "using the round function, and then displays the result."
   ]
  },
  {
   "cell_type": "code",
   "execution_count": 5,
   "id": "46ada4f2-d650-4fb4-acd0-4bb9673b032d",
   "metadata": {},
   "outputs": [
    {
     "name": "stdout",
     "output_type": "stream",
     "text": [
      "Enter number 5\n"
     ]
    },
    {
     "name": "stdout",
     "output_type": "stream",
     "text": [
      "the rounded number is 5\n"
     ]
    }
   ],
   "source": [
    "#this program is not taking anythin as an input, you create a variable that you will be storing the inputed number in\n",
    "float_int = float(input (\"Enter number\"))\n",
    "print(f\"the rounded number is {round(float_int)}\")"
   ]
  },
  {
   "cell_type": "markdown",
   "id": "fd465a2f-20ac-415d-a0f0-4d626912ed4b",
   "metadata": {},
   "source": [
    "## Temperature Conversion:\n",
    "Create a program that converts a temperature in Celsius to Fahrenheit. Write a function \n",
    "celsius_to_fahrenheit that takes a temperature in Celsius as a parameter, converts it to Fahrenheit using \n",
    "the formula (Celsius * 9/5) + 32, and returns the result."
   ]
  },
  {
   "cell_type": "code",
   "execution_count": 1,
   "id": "9eca597e-d552-486e-ba57-f63c8546d398",
   "metadata": {},
   "outputs": [
    {
     "name": "stdin",
     "output_type": "stream",
     "text": [
      "Enter Temperature in Celsius :  33\n"
     ]
    },
    {
     "name": "stdout",
     "output_type": "stream",
     "text": [
      "91.4\n"
     ]
    }
   ],
   "source": [
    "def celsius_to_fahrenheit(temperature_in_celsius):\n",
    "    return (temperature_in_celsius * 9/5) +  32\n",
    "temperature_ = float(input(\"Enter Temperature in Celsius : \"))# This is how we are going to be receiving the temeperature in celsius\n",
    "temperature_in_fahrenheit = celsius_to_fahrenheit(temperature_)\n",
    "print(temperature_in_fahrenheit)\n",
    "    "
   ]
  },
  {
   "cell_type": "markdown",
   "id": "60d26bc1-5b2f-4b35-b171-d12445cf344a",
   "metadata": {},
   "source": [
    "This must be the solution to the average of three numbes challenge, but the code is not working beccause you did not call the prompt_userfunction"
   ]
  },
  {
   "cell_type": "code",
   "execution_count": 16,
   "id": "796ab3d1-8ba9-48e8-bc95-5ebc40e0939d",
   "metadata": {},
   "outputs": [
    {
     "name": "stdin",
     "output_type": "stream",
     "text": [
      "Enter the first number 87\n",
      "Enter the second number 9\n",
      "Enter the third number 4\n"
     ]
    },
    {
     "data": {
      "text/plain": [
       "50.0"
      ]
     },
     "execution_count": 16,
     "metadata": {},
     "output_type": "execute_result"
    }
   ],
   "source": [
    "def calculate_average(first_num, second_num, third_num):\n",
    "    sum = first_num + second_num + third_num\n",
    "    average = sum/2\n",
    "    return average\n",
    "\n",
    "\n",
    "first_num = float(input(\"Enter the first number\"))\n",
    "second_num = float(input(\"Enter the second number\"))\n",
    "third_num = float(input(\"Enter the third number\"))\n",
    "\n",
    "calculate_average(first_num, second_num, third_num)\n",
    "\n",
    "    \n",
    "    \n"
   ]
  },
  {
   "cell_type": "markdown",
   "id": "aa3d4102-51a8-4e27-80d6-8ebb8a307dc3",
   "metadata": {},
   "source": [
    "## Average of Three Numbers:\n",
    "Write a function calculate_average that takes three numbers as parameters and returns the average of \n",
    "those numbers. The program should then prompt the user to enter three numbers, call the function, and \n",
    "print the average."
   ]
  },
  {
   "cell_type": "code",
   "execution_count": 30,
   "id": "b2da5623-0e64-43df-a2f2-c48cf2ad066a",
   "metadata": {},
   "outputs": [
    {
     "name": "stdin",
     "output_type": "stream",
     "text": [
      "Input first number :  7\n",
      "Input second number :  9\n",
      "Input third number :  4\n"
     ]
    },
    {
     "data": {
      "text/plain": [
       "10.0"
      ]
     },
     "execution_count": 30,
     "metadata": {},
     "output_type": "execute_result"
    }
   ],
   "source": [
    "#Also, this function is supposed to take in three parameters, but its taking two parameters which is number1, and number2\n",
    "def calculate_average(num_1, num_2, num_3):\n",
    "    sum = num_1 + num_2 + num_3\n",
    "    average = sum/2\n",
    "    return average\n",
    "    \n",
    "num_1=round(float(input(\"Input first number : \")))\n",
    "num_2=round(float(input(\"Input second number : \")))\n",
    "num_3=round(float(input(\"Input third number : \")))\n",
    "   \n",
    "calculate_average(num_1, num_2, num_3)  "
   ]
  },
  {
   "cell_type": "markdown",
   "id": "d518228f-35ea-4111-9f29-29ad3a482ea9",
   "metadata": {},
   "source": [
    "## Data Type Check\n",
    "Write a program that checks the data type of a given variable. Define a function check_data_type that \n",
    "takes a variable as a parameter and prints its data type. The program should then prompt the user to \n",
    "enter a variable and call the function to check its data type"
   ]
  },
  {
   "cell_type": "code",
   "execution_count": 35,
   "id": "0b4f1b51-373d-42a4-933b-295c6ee5b4a7",
   "metadata": {},
   "outputs": [
    {
     "name": "stdin",
     "output_type": "stream",
     "text": [
      "Enter a variable the man\n"
     ]
    },
    {
     "name": "stdout",
     "output_type": "stream",
     "text": [
      "<class 'str'>\n"
     ]
    }
   ],
   "source": [
    "def check_data_type(variable):\n",
    "   prompt_user = input(\"Enter a variable\")\n",
    "   print(type(prompt_user))\n",
    "\n",
    "check_data_type(prompt_user)"
   ]
  },
  {
   "cell_type": "markdown",
   "id": "6833da02-f0e1-456b-ad04-9ff6296d2cec",
   "metadata": {},
   "source": [
    "## Circle Area\n",
    "Create a program that calculates the area of a circle. Define a function calculate_circle_area that takes the radius as a parameter and returns the area using the formula area = pi * radius^2. You can use the value of pi as 3.14.\n"
   ]
  },
  {
   "cell_type": "code",
   "execution_count": 41,
   "id": "9b28b9cd-b23d-4ac6-81f5-7828820bbee2",
   "metadata": {},
   "outputs": [
    {
     "name": "stdin",
     "output_type": "stream",
     "text": [
      " what is the radius? 6\n"
     ]
    },
    {
     "data": {
      "text/plain": [
       "113.04"
      ]
     },
     "execution_count": 41,
     "metadata": {},
     "output_type": "execute_result"
    }
   ],
   "source": [
    "def calculate_circle_area(radius):\n",
    "    pi = 3.14\n",
    "    radius = int(input(\" what is the radius?\"))\n",
    "    area = pi * radius**2\n",
    "    return area\n",
    "    \n",
    "calculate_circle_area(2)"
   ]
  },
  {
   "cell_type": "code",
   "execution_count": 38,
   "id": "529338fb-e6ea-4d35-87ba-aa883920df85",
   "metadata": {},
   "outputs": [
    {
     "name": "stdout",
     "output_type": "stream",
     "text": [
      "correction\n"
     ]
    }
   ],
   "source": [
    "print(\"correction\")"
   ]
  },
  {
   "cell_type": "markdown",
   "id": "02506fcb-4ec5-4bb5-b01a-74e88d964790",
   "metadata": {},
   "source": [
    "Write a program that converts English Vocabularies into Nigerian Pidgin\n",
    "create a dictionary that maps our English sentence to Pidgin.\n",
    "create a function that loops through the dictionary and converts the English Vocabularies to Pidgin. function will take English sentence as parameter. \n",
    "The function should be called English_Converter.\n",
    "convert English sentence to lower case\n"
   ]
  },
  {
   "cell_type": "code",
   "execution_count": null,
   "id": "120bffa3-a154-41ea-982c-8f69cadd869a",
   "metadata": {},
   "outputs": [],
   "source": []
  },
  {
   "cell_type": "code",
   "execution_count": 76,
   "id": "116f7725-4e37-4cac-8894-b2b47e70fc42",
   "metadata": {},
   "outputs": [
    {
     "name": "stdout",
     "output_type": "stream",
     "text": [
      "how u dey\n"
     ]
    },
    {
     "data": {
      "text/plain": [
       "'your broda no-fit klaimb di tri se una climbed'"
      ]
     },
     "execution_count": 76,
     "metadata": {},
     "output_type": "execute_result"
    }
   ],
   "source": [
    "Translation_Dic = {\n",
    "    \"please\": \"abeg\", \"know\": \"sabi\", \n",
    "    \"hastiness\":\"gragra\", \"charm\": \"juju\", \"mother\": \"mama\", \n",
    "    \"child\": \"pikin\", \"you\": \"una\", \"walk\": \"waka\",\n",
    "    \"rubish\": \"yamayama\", \"our\": \"awa\", \"people\":\"pipul\",\n",
    "    \"come\": \"kom\",  \"said\":\"tok\", \"that\": \"se\", \"what\": \"wetin\",\n",
    "    \"old\":\"old\", \"man\": \"man\",  \"is\": \"de\", \"see\": \"si\", \"for\":\"fo\",\n",
    "    \"where\":\"wie\", \"he\": \"im\", \"sit\": \"sidon\", \"small\": \"smol\", \n",
    "    \"child\": \"pikin\", \"cannot\": \"no-fit\", \"it\": \"am\", \"even\": \"ivun\" \n",
    "    ,\"when\":\"wen\", \"he\":\"im\", \"climb\": \"klaimb\", \"tree\": \"tri\",\n",
    "    \"the\": \"Di\", \"three\": \"tiri\", \"elder\": \"sinio\", \"child\":\"pikin\",\n",
    "    \"magician\": \"majishan\", \"and\": \"an\", \"they\": \"dem\", \"their\":\"dia\",\n",
    "    \"small\": \"smol\", \"brother\": \"broda\", \"not\":\"neva\", \"mature\": \"big\",\n",
    "    \"enough\": \"rich\", \"to\": \"to\", \"learn\": \"len\", \"any\": \"eni\", \"work\": \"wok\",\n",
    "    \"one\": \"Wan\", \"day\": \"dé\", \"the\": \"di\", \"hunter\": \"honta\", \"entered\":\"enta\",\n",
    "    \"bush\": \"bush\", \"go\": \"go\", \"hunt\": \"hont\", \"animal\": \"anima\"}\n",
    "\n",
    "def English_Pidgin_Dic(English_Sentence):\n",
    "    \n",
    "    words = English_Sentence.lower().split()\n",
    "    \"\"\"\n",
    "    pidgin_sentence = []   \n",
    "    \n",
    "    for word in words:\n",
    "        if word in Translation_Dic:\n",
    "            pidgin_word = Translation_Dic[word]\n",
    "        else:\n",
    "            pidgin_word = word  \n",
    "        pidgin_sentence.append(pidgin_word)\n",
    "        \n",
    "    pidgin_sentence = \" &\".join(pidgin_sentence)\n",
    "    return pidgin_sentence\n",
    "    \"\"\"\n",
    "    print(Translation_Dic.get(\"hello\", \"how u dey\"))\n",
    "        \n",
    "    pidgin_sentence = [Translation_Dic.get(word, word) for word in words]\n",
    "    \n",
    "    pidgin_sentence = \" \".join(pidgin_sentence)\n",
    "    return pidgin_sentence\n",
    "\n",
    "\n",
    "English_Sentence = (\"Your brother cannot climb the tree that you climbed\")\n",
    "English_Pidgin_Dic(English_Sentence)\n",
    "\n",
    "    \n",
    "    "
   ]
  },
  {
   "cell_type": "code",
   "execution_count": 76,
   "id": "ba1c9a6e-91b6-4a4a-8751-ae9974341785",
   "metadata": {},
   "outputs": [
    {
     "name": "stdout",
     "output_type": "stream",
     "text": [
      "how u dey\n"
     ]
    },
    {
     "data": {
      "text/plain": [
       "'your broda no-fit klaimb di tri se una climbed'"
      ]
     },
     "execution_count": 76,
     "metadata": {},
     "output_type": "execute_result"
    }
   ],
   "source": [
    "Translation_Dic = {\n",
    "    \"please\": \"abeg\", \"know\": \"sabi\", \n",
    "    \"hastiness\":\"gragra\", \"charm\": \"juju\", \"mother\": \"mama\", \n",
    "    \"child\": \"pikin\", \"you\": \"una\", \"walk\": \"waka\",\n",
    "    \"rubish\": \"yamayama\", \"our\": \"awa\", \"people\":\"pipul\",\n",
    "    \"come\": \"kom\",  \"said\":\"tok\", \"that\": \"se\", \"what\": \"wetin\",\n",
    "    \"old\":\"old\", \"man\": \"man\",  \"is\": \"de\", \"see\": \"si\", \"for\":\"fo\",\n",
    "    \"where\":\"wie\", \"he\": \"im\", \"sit\": \"sidon\", \"small\": \"smol\", \n",
    "    \"child\": \"pikin\", \"cannot\": \"no-fit\", \"it\": \"am\", \"even\": \"ivun\" \n",
    "    ,\"when\":\"wen\", \"he\":\"im\", \"climb\": \"klaimb\", \"tree\": \"tri\",\n",
    "    \"the\": \"Di\", \"three\": \"tiri\", \"elder\": \"sinio\", \"child\":\"pikin\",\n",
    "    \"magician\": \"majishan\", \"and\": \"an\", \"they\": \"dem\", \"their\":\"dia\",\n",
    "    \"small\": \"smol\", \"brother\": \"broda\", \"not\":\"neva\", \"mature\": \"big\",\n",
    "    \"enough\": \"rich\", \"to\": \"to\", \"learn\": \"len\", \"any\": \"eni\", \"work\": \"wok\",\n",
    "    \"one\": \"Wan\", \"day\": \"dé\", \"the\": \"di\", \"hunter\": \"honta\", \"entered\":\"enta\",\n",
    "    \"bush\": \"bush\", \"go\": \"go\", \"hunt\": \"hont\", \"animal\": \"anima\"}\n",
    "\n",
    "def English_Pidgin_Dic(English_Sentence):\n",
    "    \n",
    "    words = English_Sentence.lower().split()\n",
    "    \"\"\"\n",
    "    pidgin_sentence = []   \n",
    "    \n",
    "    for word in words:\n",
    "        if word in Translation_Dic:\n",
    "            pidgin_word = Translation_Dic[word]\n",
    "        else:\n",
    "            pidgin_word = word  \n",
    "        pidgin_sentence.append(pidgin_word)\n",
    "        \n",
    "    pidgin_sentence = \" &\".join(pidgin_sentence)\n",
    "    return pidgin_sentence\n",
    "    \"\"\"\n",
    "    print(Translation_Dic.get(\"hello\", \"how u dey\"))\n",
    "        \n",
    "    pidgin_sentence = [Translation_Dic.get(word, word) for word in words]\n",
    "    \n",
    "    pidgin_sentence = \" \".join(pidgin_sentence)\n",
    "    return pidgin_sentence\n",
    "\n",
    "\n",
    "English_Sentence = (\"Your brother cannot climb the tree that you climbed\")\n",
    "English_Pidgin_Dic(English_Sentence)\n",
    "\n",
    "    \n",
    "    "
   ]
  },
  {
   "cell_type": "code",
   "execution_count": 76,
   "id": "5658b10c-0719-4abd-a333-399ebbedea3d",
   "metadata": {},
   "outputs": [
    {
     "name": "stdout",
     "output_type": "stream",
     "text": [
      "how u dey\n"
     ]
    },
    {
     "data": {
      "text/plain": [
       "'your broda no-fit klaimb di tri se una climbed'"
      ]
     },
     "execution_count": 76,
     "metadata": {},
     "output_type": "execute_result"
    }
   ],
   "source": [
    "Translation_Dic = {\n",
    "    \"please\": \"abeg\", \"know\": \"sabi\", \n",
    "    \"hastiness\":\"gragra\", \"charm\": \"juju\", \"mother\": \"mama\", \n",
    "    \"child\": \"pikin\", \"you\": \"una\", \"walk\": \"waka\",\n",
    "    \"rubish\": \"yamayama\", \"our\": \"awa\", \"people\":\"pipul\",\n",
    "    \"come\": \"kom\",  \"said\":\"tok\", \"that\": \"se\", \"what\": \"wetin\",\n",
    "    \"old\":\"old\", \"man\": \"man\",  \"is\": \"de\", \"see\": \"si\", \"for\":\"fo\",\n",
    "    \"where\":\"wie\", \"he\": \"im\", \"sit\": \"sidon\", \"small\": \"smol\", \n",
    "    \"child\": \"pikin\", \"cannot\": \"no-fit\", \"it\": \"am\", \"even\": \"ivun\" \n",
    "    ,\"when\":\"wen\", \"he\":\"im\", \"climb\": \"klaimb\", \"tree\": \"tri\",\n",
    "    \"the\": \"Di\", \"three\": \"tiri\", \"elder\": \"sinio\", \"child\":\"pikin\",\n",
    "    \"magician\": \"majishan\", \"and\": \"an\", \"they\": \"dem\", \"their\":\"dia\",\n",
    "    \"small\": \"smol\", \"brother\": \"broda\", \"not\":\"neva\", \"mature\": \"big\",\n",
    "    \"enough\": \"rich\", \"to\": \"to\", \"learn\": \"len\", \"any\": \"eni\", \"work\": \"wok\",\n",
    "    \"one\": \"Wan\", \"day\": \"dé\", \"the\": \"di\", \"hunter\": \"honta\", \"entered\":\"enta\",\n",
    "    \"bush\": \"bush\", \"go\": \"go\", \"hunt\": \"hont\", \"animal\": \"anima\"}\n",
    "\n",
    "def English_Pidgin_Dic(English_Sentence):\n",
    "    \n",
    "    words = English_Sentence.lower().split()\n",
    "    \"\"\"\n",
    "    pidgin_sentence = []   \n",
    "    \n",
    "    for word in words:\n",
    "        if word in Translation_Dic:\n",
    "            pidgin_word = Translation_Dic[word]\n",
    "        else:\n",
    "            pidgin_word = word  \n",
    "        pidgin_sentence.append(pidgin_word)\n",
    "        \n",
    "    pidgin_sentence = \" &\".join(pidgin_sentence)\n",
    "    return pidgin_sentence\n",
    "    \"\"\"\n",
    "    print(Translation_Dic.get(\"hello\", \"how u dey\"))\n",
    "        \n",
    "    pidgin_sentence = [Translation_Dic.get(word, word) for word in words]\n",
    "    \n",
    "    pidgin_sentence = \" \".join(pidgin_sentence)\n",
    "    return pidgin_sentence\n",
    "\n",
    "\n",
    "English_Sentence = (\"Your brother cannot climb the tree that you climbed\")\n",
    "English_Pidgin_Dic(English_Sentence)\n",
    "\n",
    "    \n",
    "    "
   ]
  },
  {
   "cell_type": "code",
   "execution_count": 73,
   "id": "d4faf0b5-d42f-4962-95d3-c719a2ca5d24",
   "metadata": {},
   "outputs": [
    {
     "name": "stdout",
     "output_type": "stream",
     "text": [
      "Basam\n",
      "cookies\n",
      "chinchin\n",
      "chinchin\n"
     ]
    }
   ],
   "source": [
    "Groceries = [\"Basam\", \"cookies\", \"chinchin\"]\n",
    "for x in Groceries:\n",
    "    print(x)\n",
    "print(x)"
   ]
  },
  {
   "cell_type": "code",
   "execution_count": 62,
   "id": "e996d082-86d0-4e88-b7ba-6b22c54680ba",
   "metadata": {},
   "outputs": [
    {
     "data": {
      "text/plain": [
       "'Basam cookies chinchin'"
      ]
     },
     "execution_count": 62,
     "metadata": {},
     "output_type": "execute_result"
    }
   ],
   "source": [
    "Groceries = [\"Basam\", \"cookies\", \"chinchin\"]\n",
    "\" \".join(Groceries)"
   ]
  },
  {
   "cell_type": "code",
   "execution_count": null,
   "id": "66e159a8-ec38-4398-9831-5a424c6bb123",
   "metadata": {},
   "outputs": [],
   "source": []
  }
 ],
 "metadata": {
  "kernelspec": {
   "display_name": "Python 3 (ipykernel)",
   "language": "python",
   "name": "python3"
  },
  "language_info": {
   "codemirror_mode": {
    "name": "ipython",
    "version": 3
   },
   "file_extension": ".py",
   "mimetype": "text/x-python",
   "name": "python",
   "nbconvert_exporter": "python",
   "pygments_lexer": "ipython3",
   "version": "3.11.5"
  }
 },
 "nbformat": 4,
 "nbformat_minor": 5
}
