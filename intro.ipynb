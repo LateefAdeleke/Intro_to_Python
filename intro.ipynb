{
 "cells": [
  {
   "cell_type": "markdown",
   "id": "1c9b5169-6509-4da0-b083-1f020bcc9677",
   "metadata": {},
   "source": [
    "# Introduction to data types"
   ]
  },
  {
   "cell_type": "code",
   "execution_count": 7,
   "id": "fcaa9f43-0084-4339-ad26-dc2fcd4866f6",
   "metadata": {},
   "outputs": [
    {
     "name": "stdout",
     "output_type": "stream",
     "text": [
      "1200\n"
     ]
    }
   ],
   "source": [
    "def get_area():\n",
    "    L = 30\n",
    "    H = 40\n",
    "    Area = L * H\n",
    "    print(Area)\n",
    "\n",
    "get_area()"
   ]
  },
  {
   "cell_type": "code",
   "execution_count": 1,
   "id": "46ada4f2-d650-4fb4-acd0-4bb9673b032d",
   "metadata": {},
   "outputs": [
    {
     "name": "stdout",
     "output_type": "stream",
     "text": [
      "5\n"
     ]
    }
   ],
   "source": [
    "floating_int = round(5.333)\n",
    "print(floating_int)"
   ]
  },
  {
   "cell_type": "code",
   "execution_count": 2,
   "id": "9eca597e-d552-486e-ba57-f63c8546d398",
   "metadata": {},
   "outputs": [],
   "source": [
    "def celsius_to_fahrenheit(temperature_in_celsius):\n",
    "    return\n",
    "    "
   ]
  },
  {
   "cell_type": "code",
   "execution_count": 5,
   "id": "796ab3d1-8ba9-48e8-bc95-5ebc40e0939d",
   "metadata": {},
   "outputs": [],
   "source": [
    "def calculate_average(first_num, second_num, third_num):\n",
    "    average = (first_num, second_num, third_num)/2\n",
    "    return average\n",
    "\n",
    "def prompt_user():\n",
    "    first_num = float(input(\"Enter the first number\"))\n",
    "    second_num = float(iput(\"Enter the second number\"))\n",
    "    third_num = float(input(\"Enter the third number\"))\n",
    "\n",
    "    \n",
    "    \n",
    "\n",
    "    \n",
    "    \n"
   ]
  },
  {
   "cell_type": "code",
   "execution_count": 14,
   "id": "93231aa1-6fa4-4b86-a314-d1ba1540db8f",
   "metadata": {},
   "outputs": [
    {
     "name": "stdout",
     "output_type": "stream",
     "text": [
      "8\n"
     ]
    }
   ],
   "source": [
    "def sum_number(number1, number2):\n",
    "    sum = number1 + number2\n",
    "    print(sum)\n",
    "sum_number(3, 5)\n"
   ]
  },
  {
   "cell_type": "code",
   "execution_count": 9,
   "id": "0b4f1b51-373d-42a4-933b-295c6ee5b4a7",
   "metadata": {},
   "outputs": [
    {
     "ename": "TypeError",
     "evalue": "input() takes 0 positional arguments but 1 was given",
     "output_type": "error",
     "traceback": [
      "\u001b[0;31m---------------------------------------------------------------------------\u001b[0m",
      "\u001b[0;31mTypeError\u001b[0m                                 Traceback (most recent call last)",
      "Cell \u001b[0;32mIn[9], line 4\u001b[0m\n\u001b[1;32m      1\u001b[0m \u001b[38;5;28;01mdef\u001b[39;00m \u001b[38;5;21mcheck_data_type\u001b[39m(variable):\n\u001b[1;32m      2\u001b[0m     \u001b[38;5;28mprint\u001b[39m(\u001b[38;5;28mtype\u001b[39m(variable))\n\u001b[0;32m----> 4\u001b[0m prompt_user \u001b[38;5;241m=\u001b[39m \u001b[38;5;28minput\u001b[39m(\u001b[38;5;124m\"\u001b[39m\u001b[38;5;124mEnter a variable\u001b[39m\u001b[38;5;124m\"\u001b[39m)\n\u001b[1;32m      6\u001b[0m check_data_type(\u001b[38;5;28mtype\u001b[39m(variable))\n",
      "\u001b[0;31mTypeError\u001b[0m: input() takes 0 positional arguments but 1 was given"
     ]
    }
   ],
   "source": [
    "def check_data_type(variable):\n",
    "    print(type(variable))\n",
    "    \n",
    "prompt_user = input(\"Enter a variable\")\n",
    "\n",
    "check_data_type(type(variable))\n",
    "\n"
   ]
  },
  {
   "cell_type": "code",
   "execution_count": 13,
   "id": "9b28b9cd-b23d-4ac6-81f5-7828820bbee2",
   "metadata": {},
   "outputs": [
    {
     "name": "stdout",
     "output_type": "stream",
     "text": [
      "12.56\n"
     ]
    }
   ],
   "source": [
    "def calculate_circle_area(radius):\n",
    "    pi = 3.14\n",
    "    area = pi * radius**2\n",
    "    print(area)\n",
    "    \n",
    "calculate_circle_area(2)"
   ]
  },
  {
   "cell_type": "code",
   "execution_count": null,
   "id": "529338fb-e6ea-4d35-87ba-aa883920df85",
   "metadata": {},
   "outputs": [],
   "source": []
  }
 ],
 "metadata": {
  "kernelspec": {
   "display_name": "Python 3 (ipykernel)",
   "language": "python",
   "name": "python3"
  },
  "language_info": {
   "codemirror_mode": {
    "name": "ipython",
    "version": 3
   },
   "file_extension": ".py",
   "mimetype": "text/x-python",
   "name": "python",
   "nbconvert_exporter": "python",
   "pygments_lexer": "ipython3",
   "version": "3.11.7"
  }
 },
 "nbformat": 4,
 "nbformat_minor": 5
}
