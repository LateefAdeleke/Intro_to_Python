{
 "cells": [
  {
   "cell_type": "code",
   "execution_count": 12,
   "id": "8da79b4e-669d-413d-aa4c-f0cce1b2865d",
   "metadata": {},
   "outputs": [
    {
     "name": "stdout",
     "output_type": "stream",
     "text": [
      "Tesla engine started\n",
      "yellow\n"
     ]
    }
   ],
   "source": [
    "class Car:\n",
    "    def __init__(self, color, model, engine):\n",
    "        self.color = color\n",
    "        self.model = model\n",
    "        self.engine = engine\n",
    "    def start_engine(self):\n",
    "        print(f\"{self.model} engine started\")\n",
    "\n",
    "my_first_car = Car(color = \"yellow\", model = \"G Wagon\", engine = \"V8\")\n",
    "my_second_car = Car(color = \"blue\", model = \"Tesla\", engine = \"G8\")\n",
    "\n",
    "my_second_car.start_engine()\n",
    "\n",
    "print(my_first_car.color)\n",
    "        "
   ]
  },
  {
   "cell_type": "code",
   "execution_count": 5,
   "id": "296e0474-1e46-44d0-b0bd-639659d1ecf8",
   "metadata": {},
   "outputs": [
    {
     "name": "stdout",
     "output_type": "stream",
     "text": [
      "Kate\n",
      "Kate is a male\n"
     ]
    },
    {
     "data": {
      "text/plain": [
       "'person1 = Person()\\nperson1.info()'"
      ]
     },
     "execution_count": 5,
     "metadata": {},
     "output_type": "execute_result"
    }
   ],
   "source": [
    "class Person:\n",
    "    def __init__(self, first_name, last_name, age, country, city):\n",
    "        self.first_name = first_name\n",
    "        self.last_name = last_name\n",
    "        self.age = age\n",
    "        self.country = country\n",
    "        self.city = city\n",
    "        self.skills = []\n",
    "        \n",
    "    def info(self):\n",
    "        print(f\"{self.first_name} {self.last_name} is {self.age} years old and lives in {self.country} {self.city}\")\n",
    "        \n",
    "    def add_skills(self, *skills):\n",
    "        self.skills.extend(skills)\n",
    "\n",
    "class Student(Person):\n",
    "    def __init__(self, first_name = \"Kate\", last_name = \"Adekunle\", age = 32, country = \"Qatar\", city = \"Monroe\", gender = \"male\"):\n",
    "        self.gender = gender\n",
    "        super().__init__(first_name, last_name, age, country, city)\n",
    "        \n",
    "        \n",
    "    def info(self):\n",
    "        print(f\"{self.first_name} is a {self.gender}\")\n",
    "    \n",
    "student1 = Student()\n",
    "print(student1.first_name)\n",
    "student1.info()\n",
    "\n",
    "\"\"\"person1 = Person()\n",
    "person1.info()\"\"\"\n"
   ]
  },
  {
   "cell_type": "code",
   "execution_count": 97,
   "id": "0bb30704-9a17-4a10-a0f6-62f68707484b",
   "metadata": {},
   "outputs": [
    {
     "name": "stdout",
     "output_type": "stream",
     "text": [
      "hello\n"
     ]
    }
   ],
   "source": [
    "class Parent:\n",
    "    def __init__(self, attribute1, attribute2):\n",
    "        self.attribute1 = attribute1\n",
    "        self.attribute2 = attribute2\n",
    "\n",
    "class Child(Parent):\n",
    "    def __init__(self, attribute1, attribute2, attribute3, attribute4):\n",
    "        self.attribute3 = attribute3\n",
    "        self.attribute4 = attribute4\n",
    "        super().__init__(attribute1, attribute2)\n",
    "\n",
    "object1 = Child('hello', 'bye', 'come', 'go')\n",
    "print(object1.attribute1)"
   ]
  },
  {
   "cell_type": "code",
   "execution_count": 110,
   "id": "0b826da1-2af5-4665-b549-edb7d6360122",
   "metadata": {
    "scrolled": true
   },
   "outputs": [
    {
     "name": "stdout",
     "output_type": "stream",
     "text": [
      "Total number of words is 12 and the unique words are ['This', 'is', 'a', 'sample', 'text.', 'This', 'text', 'is', 'used', 'for', 'demonstration', 'purposes']\n",
      "Word frequency: {'This': 2, 'is': 2, 'a': 1, 'sample': 1, 'text.': 1, 'text': 1, 'used': 1, 'for': 1, 'demonstration': 1, 'purposes': 1}\n",
      "!\"#$%&'()*+,-./:;<=>?@[\\]^_`{|}~\n"
     ]
    }
   ],
   "source": [
    "class Word_analyzer:\n",
    "    def __init__(self, strings):\n",
    "        self.strings = strings.split( )\n",
    "\n",
    "    def count_total_words(self):\n",
    "        return len(self.strings)\n",
    "        \n",
    "    def find_unique_words(self):\n",
    "        return (self.strings)\n",
    "    \n",
    "    def word_frequency(self):\n",
    "        word_frequency = {}\n",
    "        for word in self.strings:\n",
    "            if word in word_frequency:\n",
    "                word_frequency[word] += 1\n",
    "            else:\n",
    "                word_frequency[word] = 1\n",
    "        return word_frequency\n",
    "        \n",
    "\"\"\"with open(elon_tweets.txt) as file:\n",
    "    for f in file:\n",
    "        print(f)\"\"\"\n",
    "    \n",
    "text = \"This is a sample text. This text is used for demonstration purposes\"\n",
    "analyzer = Word_analyzer(text)\n",
    "\n",
    "print(f\"Total number of words is {analyzer.count_total_words()} and the unique words are {analyzer.find_unique_words()}\")\n",
    "print(\"Word frequency:\", analyzer.word_frequency())\n",
    "\n"
   ]
  },
  {
   "cell_type": "code",
   "execution_count": 111,
   "id": "44ec270d-482d-4dc3-9a65-6ed1a773924e",
   "metadata": {},
   "outputs": [
    {
     "name": "stdout",
     "output_type": "stream",
     "text": [
      "!\"#$%&'()*+,-./:;<=>?@[\\]^_`{|}~\n"
     ]
    }
   ],
   "source": [
    "import string\n",
    "print(string.punctuation)\n"
   ]
  },
  {
   "cell_type": "code",
   "execution_count": 142,
   "id": "2f5398b4-9448-46f8-abc3-936d167cce6d",
   "metadata": {},
   "outputs": [
    {
     "ename": "AttributeError",
     "evalue": "'str' object has no attribute 'remove_punctuation'",
     "output_type": "error",
     "traceback": [
      "\u001b[0;31m---------------------------------------------------------------------------\u001b[0m",
      "\u001b[0;31mAttributeError\u001b[0m                            Traceback (most recent call last)",
      "Cell \u001b[0;32mIn[142], line 27\u001b[0m\n\u001b[1;32m     22\u001b[0m transformer1 \u001b[38;5;241m=\u001b[39m Text_Transformer(text1)\n\u001b[1;32m     24\u001b[0m \u001b[38;5;66;03m#print(transformer1.word_tokenizer())\u001b[39;00m\n\u001b[1;32m     25\u001b[0m \u001b[38;5;66;03m#print(transformer1.string_to_lowercase())\u001b[39;00m\n\u001b[0;32m---> 27\u001b[0m transformed_text \u001b[38;5;241m=\u001b[39m transformer1\u001b[38;5;241m.\u001b[39mstring_to_lowercase()\u001b[38;5;241m.\u001b[39mremove_punctuation()\n\u001b[1;32m     28\u001b[0m \u001b[38;5;28mprint\u001b[39m(transformed_text)\n",
      "\u001b[0;31mAttributeError\u001b[0m: 'str' object has no attribute 'remove_punctuation'"
     ]
    }
   ],
   "source": [
    "\n",
    "\n",
    "class Text_Transformer:\n",
    "    def __init__(self, strings):\n",
    "        self.strings = strings\n",
    "        \n",
    "        \n",
    "    def word_tokenizer(self):\n",
    "        self.strings = self.strings.split()\n",
    "        return self.strings\n",
    "        \n",
    "        \n",
    "    def string_to_lowercase(self):\n",
    "       self.strings = self.strings.lower() \n",
    "       return self.strings\n",
    "       \n",
    "        \n",
    "\n",
    "    def remove_punctuation(self):\n",
    "        self.strings = self.strings.translate(str.maketrans('?', '.', string.punctuation))\n",
    "        return self.strings\n",
    "\n",
    "text1 = \"WHAT ARE THE NECESSARY REQUIREMENTS? DID YOU CONSULT THE GODS! BEFORE SUCH DECISION IS MADE?./\"\n",
    "transformer1 = Text_Transformer(text1)\n",
    "\n",
    "#print(transformer1.word_tokenizer())\n",
    "#print(transformer1.string_to_lowercase())\n",
    "\n",
    "transformed_text = transformer1.string_to_lowercase().remove_punctuation()\n",
    "print(transformed_text)\n",
    "\n",
    "\n",
    "        \n",
    "        \n",
    "        "
   ]
  },
  {
   "cell_type": "code",
   "execution_count": 131,
   "id": "876e9e9d-fec5-4d40-8319-c8b47c783652",
   "metadata": {},
   "outputs": [
    {
     "name": "stdout",
     "output_type": "stream",
     "text": [
      " THis ius just an experiment\n"
     ]
    }
   ],
   "source": [
    "sentence = \" THis ius just an experiment?/\"\n",
    "result = sentence.translate(str.maketrans('?', '.', string.punctuation))\n",
    "print(result)"
   ]
  },
  {
   "cell_type": "code",
   "execution_count": 172,
   "id": "5e0a1311-229f-46b8-9ac7-d3dc95b81c01",
   "metadata": {},
   "outputs": [
    {
     "name": "stdout",
     "output_type": "stream",
     "text": [
      "Arabic\n"
     ]
    }
   ],
   "source": [
    "class language_detector:\n",
    "    def __init__(self, words):\n",
    "        self.words = words\n",
    "\n",
    "    def guess_language_by_word(self, queryword):\n",
    "        #for language, word in self.words.items():\n",
    "            if queryword in word:\n",
    "                return language\n",
    "        return None\n",
    "            \n",
    "\n",
    "words = {\n",
    "    \"English\": {'money', 'man', 'house', 'car', 'computer', 'book', 'tree', 'dog', 'cat', 'school'},\n",
    "    \"Yoruba\": {'owo', 'okunrin', 'ile', 'moto', 'oogun', 'akuko', 'ala', 'aso', 'bi', 'odun'},\n",
    "    \"Arabic\": {'molu', 'rojulu', 'bayt', 'sayara', 'hasoub', 'kitab', 'shajara', 'kalb', 'qusquas', 'madrasa'}\n",
    "}\n",
    "\n",
    "        \n",
    "initiator = language_detector(words)\n",
    "print(initiator.guess_language_by_word('kalb'))\n",
    "\n",
    "\n"
   ]
  }
 ],
 "metadata": {
  "kernelspec": {
   "display_name": "Python 3 (ipykernel)",
   "language": "python",
   "name": "python3"
  },
  "language_info": {
   "codemirror_mode": {
    "name": "ipython",
    "version": 3
   },
   "file_extension": ".py",
   "mimetype": "text/x-python",
   "name": "python",
   "nbconvert_exporter": "python",
   "pygments_lexer": "ipython3",
   "version": "3.11.5"
  }
 },
 "nbformat": 4,
 "nbformat_minor": 5
}
